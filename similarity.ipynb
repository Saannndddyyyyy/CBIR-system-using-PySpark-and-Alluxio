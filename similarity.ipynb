{
 "cells": [
  {
   "cell_type": "code",
   "execution_count": 1,
   "source": [
    "from __future__ import print_function\n",
    "\n",
    "import cv2\n",
    "import sys\n",
    "import time\n",
    "\n",
    "import numpy as np\n",
    "import matplotlib.pyplot as plt\n",
    "from skimage.feature import hog\n",
    "from scipy.spatial import distance\n",
    "\n",
    "from pyspark.sql.functions import *\n",
    "from pyspark.sql.types import *\n",
    "from pyspark.sql import functions as F\n",
    "from pyspark import SparkContext\n",
    "from pyspark.sql import SQLContext,SparkSession\n"
   ],
   "outputs": [],
   "metadata": {}
  },
  {
   "cell_type": "code",
   "execution_count": 2,
   "source": [
    "def find_distance(feature,qfeature):\n",
    "    try:\n",
    "        dist = float(distance.euclidean(feature[1],qfeature))\n",
    "        return (feature[0],dist)\n",
    "    except:\n",
    "        return (feature[0],sys.float_info.max)"
   ],
   "outputs": [],
   "metadata": {}
  },
  {
   "cell_type": "code",
   "execution_count": 3,
   "source": [
    "sc = SparkContext(appName=\"feature_extractor\")\n",
    "memory = sc._conf.get('spark.driver.memory')\n",
    "sqlContext = SQLContext(sc)"
   ],
   "outputs": [
    {
     "output_type": "stream",
     "name": "stderr",
     "text": [
      "21/12/30 17:30:20 WARN Utils: Your hostname, vboxubuntu resolves to a loopback address: 127.0.1.1; using 10.0.2.15 instead (on interface enp0s3)\n",
      "21/12/30 17:30:20 WARN Utils: Set SPARK_LOCAL_IP if you need to bind to another address\n",
      "WARNING: An illegal reflective access operation has occurred\n",
      "WARNING: Illegal reflective access by org.apache.spark.unsafe.Platform (file:/opt/spark/jars/spark-unsafe_2.12-3.1.1.jar) to constructor java.nio.DirectByteBuffer(long,int)\n",
      "WARNING: Please consider reporting this to the maintainers of org.apache.spark.unsafe.Platform\n",
      "WARNING: Use --illegal-access=warn to enable warnings of further illegal reflective access operations\n",
      "WARNING: All illegal access operations will be denied in a future release\n",
      "21/12/30 17:30:25 WARN NativeCodeLoader: Unable to load native-hadoop library for your platform... using builtin-java classes where applicable\n",
      "Using Spark's default log4j profile: org/apache/spark/log4j-defaults.properties\n",
      "Setting default log level to \"WARN\".\n",
      "To adjust logging level use sc.setLogLevel(newLevel). For SparkR, use setLogLevel(newLevel).\n",
      "/home/tejasv55/.local/lib/python3.8/site-packages/pyspark/sql/context.py:77: FutureWarning: Deprecated in 3.0.0. Use SparkSession.builder.getOrCreate() instead.\n",
      "  warnings.warn(\n"
     ]
    }
   ],
   "metadata": {}
  },
  {
   "cell_type": "code",
   "execution_count": 9,
   "source": [
    "queryImageFile = \"/home/tejasv55/Documents/CBIR-system-using-PySpark-and-Alluxio/Query_Image3.jpg\""
   ],
   "outputs": [],
   "metadata": {}
  },
  {
   "cell_type": "code",
   "execution_count": 5,
   "source": [
    "feature_parquet_path = \"alluxio://localhost:19998/ImageNet20000Features\"\n",
    "features = sqlContext.read.parquet(feature_parquet_path)\n",
    "features_rdd = features.limit(3000).rdd"
   ],
   "outputs": [
    {
     "output_type": "stream",
     "name": "stderr",
     "text": []
    }
   ],
   "metadata": {}
  },
  {
   "cell_type": "code",
   "execution_count": 10,
   "source": [
    "query_img = cv2.imread(queryImageFile)\n",
    "# query_img = cv2.resize(query_img, (300,300))\n",
    "query_img = cv2.cvtColor(query_img, cv2.COLOR_BGR2GRAY)\n",
    "qfeature = hog(query_img)\n",
    "\n",
    "distances = features_rdd.map(lambda x: find_distance(x,qfeature))\n",
    "top6 = distances.sortBy(lambda x: x[1]).take(6)"
   ],
   "outputs": [
    {
     "output_type": "stream",
     "name": "stderr",
     "text": []
    }
   ],
   "metadata": {}
  },
  {
   "cell_type": "code",
   "execution_count": null,
   "source": [
    "qimg = cv2.imread(queryImageFile)\n",
    "plt.figure(figsize=(15,10),dpi = 80)\n",
    "plt.subplot(3,3,2)\n",
    "plt.title(\"Query Image\")\n",
    "plt.imshow(cv2.cvtColor(qimg,cv2.COLOR_BGR2RGB))\n",
    "\n",
    "for (i,x) in enumerate(top6):\n",
    "    plt.subplot(3,3,4+i)\n",
    "    plt.title(\"Image \"+str(i+1))\n",
    "    img = cv2.imread(\"./ImageNet-20000/\"+x[0])\n",
    "    plt.imshow(cv2.cvtColor(img,cv2.COLOR_BGR2RGB))\n"
   ],
   "outputs": [],
   "metadata": {}
  }
 ],
 "metadata": {
  "orig_nbformat": 4,
  "language_info": {
   "name": "python",
   "version": "3.8.10",
   "mimetype": "text/x-python",
   "codemirror_mode": {
    "name": "ipython",
    "version": 3
   },
   "pygments_lexer": "ipython3",
   "nbconvert_exporter": "python",
   "file_extension": ".py"
  },
  "kernelspec": {
   "name": "python3",
   "display_name": "Python 3.8.10 64-bit"
  },
  "interpreter": {
   "hash": "31f2aee4e71d21fbe5cf8b01ff0e069b9275f58929596ceb00d14d90e3e16cd6"
  }
 },
 "nbformat": 4,
 "nbformat_minor": 2
}