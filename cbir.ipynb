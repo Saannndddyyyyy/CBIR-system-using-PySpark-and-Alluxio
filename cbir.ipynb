{
 "cells": [
  {
   "cell_type": "code",
   "execution_count": 2,
   "source": [
    "from skimage.feature import hog\n",
    "import cv2\n",
    "import os\n",
    "import numpy as np"
   ],
   "outputs": [],
   "metadata": {}
  },
  {
   "cell_type": "code",
   "execution_count": 3,
   "source": [
    "query_img = cv2.imread(\"/home/tejasv55/Documents/CBIR-system-using-PySpark-and-Alluxio/Query_Image.jpg\")\n",
    "query_img = cv2.resize(query_img, (300,300))\n",
    "query_img = cv2.cvtColor(query_img, cv2.COLOR_BGR2GRAY)\n",
    "qfeatures = hog(query_img)\n",
    "qfeatures"
   ],
   "outputs": [
    {
     "output_type": "execute_result",
     "data": {
      "text/plain": [
       "array([0.07034832, 0.09044891, 0.07248702, ..., 0.13069562, 0.05581295,\n",
       "       0.20979956])"
      ]
     },
     "metadata": {},
     "execution_count": 3
    }
   ],
   "metadata": {}
  },
  {
   "cell_type": "code",
   "execution_count": 4,
   "source": [
    "distances = []\n",
    "c = 0\n",
    "for filename in os.listdir(\"/home/tejasv55/Documents/CBIR-system-using-PySpark-and-Alluxio/ImageClef2011\"):\n",
    "    img = cv2.imread(\"/home/tejasv55/Documents/CBIR-system-using-PySpark-and-Alluxio/ImageClef2011/\"+filename)\n",
    "    img = cv2.resize(img, (300,300))\n",
    "    img = cv2.cvtColor(img, cv2.COLOR_BGR2GRAY)\n",
    "    features = hog(img)\n",
    "    distance = np.linalg.norm(features-qfeatures)\n",
    "    distances.append(distance)\n",
    "    c+=1\n",
    "    print(c)\n",
    "distances.sort()\n",
    "print(distances)"
   ],
   "outputs": [],
   "metadata": {}
  },
  {
   "cell_type": "code",
   "execution_count": null,
   "source": [],
   "outputs": [],
   "metadata": {}
  }
 ],
 "metadata": {
  "orig_nbformat": 4,
  "language_info": {
   "name": "python",
   "version": "3.8.10",
   "mimetype": "text/x-python",
   "codemirror_mode": {
    "name": "ipython",
    "version": 3
   },
   "pygments_lexer": "ipython3",
   "nbconvert_exporter": "python",
   "file_extension": ".py"
  },
  "kernelspec": {
   "name": "python3",
   "display_name": "Python 3.8.10 64-bit"
  },
  "interpreter": {
   "hash": "916dbcbb3f70747c44a77c7bcd40155683ae19c65e1c03b4aa3499c5328201f1"
  }
 },
 "nbformat": 4,
 "nbformat_minor": 2
}